{
  "nbformat": 4,
  "nbformat_minor": 0,
  "metadata": {
    "colab": {
      "provenance": [],
      "authorship_tag": "ABX9TyOrFZsIxfxaSxnJgkB/ZLKL",
      "include_colab_link": true
    },
    "kernelspec": {
      "name": "python3",
      "display_name": "Python 3"
    },
    "language_info": {
      "name": "python"
    }
  },
  "cells": [
    {
      "cell_type": "markdown",
      "metadata": {
        "id": "view-in-github",
        "colab_type": "text"
      },
      "source": [
        "<a href=\"https://colab.research.google.com/github/praveengrb/nlp/blob/main/SentimentAnalysis.ipynb\" target=\"_parent\"><img src=\"https://colab.research.google.com/assets/colab-badge.svg\" alt=\"Open In Colab\"/></a>"
      ]
    },
    {
      "cell_type": "code",
      "execution_count": null,
      "metadata": {
        "id": "YTGN2mV35PZz"
      },
      "outputs": [],
      "source": [
        "import pandas as pd\n",
        "import re\n",
        "import itertools\n",
        "import nltk\n",
        "import itertools\n",
        "df=pd.read_csv('Tweets.csv')\n",
        "df=df[['text','airline_sentiment']]\n",
        "r=re.compile(r\"([@])(\\w+)\\b\")\n",
        "AllReferences=map(lambda x: r.findall(x),df['text'])\n",
        "AllUniqueReferenceCombined=set(list(itertools.chain.from_iterable(AllReferences)))\n",
        "References=map(lambda x:x[0]+x[1],AllUniqueReferenceCombined)\n",
        "file=open(\"References.txt\",'a')\n",
        "for each in References:\n",
        "  file.write(each+\"\\n\")\n",
        "file.close();\n",
        "\n",
        "def GetNounPhrase(s):\n",
        "  try:\n",
        "    sentences=nltk.sent_tokenize(s)\n",
        "    sentences=[nltk.word_tokenize(sent) for sent in sentences]\n",
        "    sentences=[nltk.pos_tag(sent) for sent in sentences]\n",
        "  except:\n",
        "    return []\n",
        "  else:\n",
        "      grammar=r\"NP:{<DT><NN|NNS|NNP|NNPS>*<NN|NNS|NNP|NNPS>}\"\n",
        "      cp=nltk.RegexpParser(grammar)\n",
        "      noun_phrases_list=[[\n",
        "          ''.join(leaf[0] for leaf in tree.leaves())\n",
        "          for tree in cp.parse(sent).subtrees()\n",
        "          if tree.label()=='NP'\n",
        "      ] for sent in sentences\n",
        "      ]\n",
        "      return noun_phrases_list\n",
        "for group,sub in df.groupby('airline_sentiment'):\n",
        "  noun_phrases=map(lambda x:GetNounPhrase(x),sub['text'])\n",
        "  noun_phrases=list(itertools.chain.from_iterable(noun_phrases))\n",
        "  AllNounPhrase=set(list(itertools.chain.from_iterable(noun_phrases)))\n",
        "  filename=\"Noun Phrases for\"+str(group)+\"Review.txt\"\n",
        "  file=open(filename,'a')\n",
        "  for each in AllNounPhrase:\n",
        "    file.write(each+\"\\n\")\n",
        "  file.close()"
      ]
    },
    {
      "cell_type": "code",
      "source": [],
      "metadata": {
        "id": "n-cmp2HD5nmC"
      },
      "execution_count": null,
      "outputs": []
    }
  ]
}